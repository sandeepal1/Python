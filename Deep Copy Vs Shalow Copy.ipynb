{
 "cells": [
  {
   "cell_type": "markdown",
   "id": "e8041042",
   "metadata": {},
   "source": [
    "# Shalow Copy"
   ]
  },
  {
   "cell_type": "code",
   "execution_count": 8,
   "id": "55b91692",
   "metadata": {},
   "outputs": [
    {
     "data": {
      "text/plain": [
       "2858408545216"
      ]
     },
     "execution_count": 8,
     "metadata": {},
     "output_type": "execute_result"
    }
   ],
   "source": [
    "a = [1,2,3,4]\n",
    "id(a)"
   ]
  },
  {
   "cell_type": "code",
   "execution_count": 9,
   "id": "06e49770",
   "metadata": {},
   "outputs": [
    {
     "data": {
      "text/plain": [
       "2858408545216"
      ]
     },
     "execution_count": 9,
     "metadata": {},
     "output_type": "execute_result"
    }
   ],
   "source": [
    "b = a\n",
    "id(b)"
   ]
  },
  {
   "cell_type": "code",
   "execution_count": 10,
   "id": "e03b326a",
   "metadata": {},
   "outputs": [
    {
     "name": "stdout",
     "output_type": "stream",
     "text": [
      "[1, 2, 3, 5]\n",
      "[1, 2, 3, 5]\n"
     ]
    }
   ],
   "source": [
    "a[3] = 5\n",
    "print(a)\n",
    "print(b)"
   ]
  },
  {
   "cell_type": "code",
   "execution_count": 11,
   "id": "23729229",
   "metadata": {},
   "outputs": [
    {
     "name": "stdout",
     "output_type": "stream",
     "text": [
      "[1, 2, 3, 5]\n",
      "[1, 2, 3, 15]\n"
     ]
    }
   ],
   "source": [
    "b = a.copy()\n",
    "b[3] = 15\n",
    "print(a)\n",
    "print(b)"
   ]
  },
  {
   "cell_type": "code",
   "execution_count": 15,
   "id": "e0cc3020",
   "metadata": {},
   "outputs": [
    {
     "data": {
      "text/plain": [
       "2858408381888"
      ]
     },
     "execution_count": 15,
     "metadata": {},
     "output_type": "execute_result"
    }
   ],
   "source": [
    "a = [1,2,3,4, [9,8,10]]\n",
    "b = a.copy()\n",
    "id(a)"
   ]
  },
  {
   "cell_type": "code",
   "execution_count": 16,
   "id": "c1ea952c",
   "metadata": {},
   "outputs": [
    {
     "data": {
      "text/plain": [
       "2858407801472"
      ]
     },
     "execution_count": 16,
     "metadata": {},
     "output_type": "execute_result"
    }
   ],
   "source": [
    "id(b)"
   ]
  },
  {
   "cell_type": "code",
   "execution_count": 17,
   "id": "0587d0dc",
   "metadata": {},
   "outputs": [
    {
     "data": {
      "text/plain": [
       "2858407796480"
      ]
     },
     "execution_count": 17,
     "metadata": {},
     "output_type": "execute_result"
    }
   ],
   "source": [
    "id(a[4])"
   ]
  },
  {
   "cell_type": "code",
   "execution_count": 18,
   "id": "b93e9e3e",
   "metadata": {},
   "outputs": [
    {
     "data": {
      "text/plain": [
       "2858407796480"
      ]
     },
     "execution_count": 18,
     "metadata": {},
     "output_type": "execute_result"
    }
   ],
   "source": [
    "id(b[4])"
   ]
  },
  {
   "cell_type": "code",
   "execution_count": 23,
   "id": "46e2c3ad",
   "metadata": {},
   "outputs": [
    {
     "data": {
      "text/plain": [
       "2858408520768"
      ]
     },
     "execution_count": 23,
     "metadata": {},
     "output_type": "execute_result"
    }
   ],
   "source": [
    "import copy\n",
    "\n",
    "a = [1,2,3,4, [9,8,10]]\n",
    "b = copy.deepcopy(a)\n",
    "id(a)"
   ]
  },
  {
   "cell_type": "code",
   "execution_count": 24,
   "id": "4bd826b3",
   "metadata": {},
   "outputs": [
    {
     "data": {
      "text/plain": [
       "2858408734080"
      ]
     },
     "execution_count": 24,
     "metadata": {},
     "output_type": "execute_result"
    }
   ],
   "source": [
    "id(b)"
   ]
  },
  {
   "cell_type": "code",
   "execution_count": 25,
   "id": "fd6b018b",
   "metadata": {},
   "outputs": [
    {
     "data": {
      "text/plain": [
       "2858408734208"
      ]
     },
     "execution_count": 25,
     "metadata": {},
     "output_type": "execute_result"
    }
   ],
   "source": [
    "id(a[4])"
   ]
  },
  {
   "cell_type": "code",
   "execution_count": 26,
   "id": "61ec5214",
   "metadata": {},
   "outputs": [
    {
     "data": {
      "text/plain": [
       "2858408662592"
      ]
     },
     "execution_count": 26,
     "metadata": {},
     "output_type": "execute_result"
    }
   ],
   "source": [
    "id(b[4])"
   ]
  },
  {
   "cell_type": "code",
   "execution_count": 28,
   "id": "4276ea66",
   "metadata": {},
   "outputs": [
    {
     "data": {
      "text/plain": [
       "2858408661440"
      ]
     },
     "execution_count": 28,
     "metadata": {},
     "output_type": "execute_result"
    }
   ],
   "source": [
    "abc = [1,2,3,4]\n",
    "bca = abc[:]\n",
    "id(abc)"
   ]
  },
  {
   "cell_type": "code",
   "execution_count": 29,
   "id": "a6ea3a5e",
   "metadata": {},
   "outputs": [
    {
     "data": {
      "text/plain": [
       "2858408733568"
      ]
     },
     "execution_count": 29,
     "metadata": {},
     "output_type": "execute_result"
    }
   ],
   "source": [
    "id(bca)"
   ]
  },
  {
   "cell_type": "code",
   "execution_count": 30,
   "id": "2a5ef2d5",
   "metadata": {},
   "outputs": [
    {
     "data": {
      "text/plain": [
       "[5, 2, 3, 4]"
      ]
     },
     "execution_count": 30,
     "metadata": {},
     "output_type": "execute_result"
    }
   ],
   "source": [
    "abc[0] = 5\n",
    "abc"
   ]
  },
  {
   "cell_type": "code",
   "execution_count": 31,
   "id": "696966c3",
   "metadata": {},
   "outputs": [
    {
     "data": {
      "text/plain": [
       "[1, 2, 3, 4]"
      ]
     },
     "execution_count": 31,
     "metadata": {},
     "output_type": "execute_result"
    }
   ],
   "source": [
    "bca"
   ]
  },
  {
   "cell_type": "code",
   "execution_count": 33,
   "id": "8398177d",
   "metadata": {},
   "outputs": [
    {
     "name": "stdout",
     "output_type": "stream",
     "text": [
      "[1, 2, 3, 4, [5, 6, 7]]\n",
      "[1, 2, 3, 4, [5, 6, 7]]\n",
      "[1, 2, 3, 4, [9, 6, 7]]\n",
      "[1, 2, 3, 4, [9, 6, 7]]\n"
     ]
    }
   ],
   "source": [
    "abc = [1,2,3,4,[5,6,7]]\n",
    "bca = abc[:]\n",
    "print(abc)\n",
    "print(bca)\n",
    "abc[4][0] = 9\n",
    "print(abc)\n",
    "print(bca)"
   ]
  }
 ],
 "metadata": {
  "kernelspec": {
   "display_name": "Python 3 (ipykernel)",
   "language": "python",
   "name": "python3"
  },
  "language_info": {
   "codemirror_mode": {
    "name": "ipython",
    "version": 3
   },
   "file_extension": ".py",
   "mimetype": "text/x-python",
   "name": "python",
   "nbconvert_exporter": "python",
   "pygments_lexer": "ipython3",
   "version": "3.9.6"
  }
 },
 "nbformat": 4,
 "nbformat_minor": 5
}
